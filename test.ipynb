{
 "cells": [
  {
   "cell_type": "code",
   "execution_count": 1,
   "metadata": {},
   "outputs": [],
   "source": [
    "# from dfender import distribute\n",
    "# import pandas as pd\n",
    "# import dask.dataframe as dd\n",
    "\n",
    "# X = pd.DataFrame(range(100), columns=['x'])\n",
    "# X_ = dd.from_pandas(X, npartitions=1)\n",
    "\n",
    "# class Test:\n",
    "#     @distribute\n",
    "#     def predict(self, X: pd.Series) -> pd.Series:\n",
    "#         return (pd.to_datetime('2000-01-01').to_period('M') + X).dt.to_timestamp()\n",
    "\n",
    "#     @distribute\n",
    "#     def rowmax(self, X: pd.DataFrame):\n",
    "#         return X.max(axis=1)\n",
    "#     # @dispatch(pd.DataFrame)\n",
    "#     # def predict(self, X: pd.DataFrame) -> pd.Series:\n",
    "#     #     return X * 2\n",
    "\n",
    "#     # @dispatch(dd.DataFrame)\n",
    "#     # def predict(self, X: dd.DataFrame) -> dd.Series:\n",
    "#     #     return X / 2\n",
    "\n",
    "\n",
    "# est = Test()\n",
    "# # est.predict(X['x'])\n",
    "# # est.predict(X_['x'])\n",
    "# est.rowmax(X)\n",
    "# est.rowmax(X_)"
   ]
  },
  {
   "cell_type": "code",
   "execution_count": 5,
   "metadata": {},
   "outputs": [
    {
     "data": {
      "text/plain": [
       "dask.dataframe.core.Series"
      ]
     },
     "execution_count": 5,
     "metadata": {},
     "output_type": "execute_result"
    }
   ],
   "source": [
    "from dfender.materializers import materializer\n",
    "\n",
    "materializer.registry"
   ]
  }
 ],
 "metadata": {
  "kernelspec": {
   "display_name": "Python 3.8.10 ('.venv': poetry)",
   "language": "python",
   "name": "python3"
  },
  "language_info": {
   "codemirror_mode": {
    "name": "ipython",
    "version": 3
   },
   "file_extension": ".py",
   "mimetype": "text/x-python",
   "name": "python",
   "nbconvert_exporter": "python",
   "pygments_lexer": "ipython3",
   "version": "3.8.10"
  },
  "orig_nbformat": 4,
  "vscode": {
   "interpreter": {
    "hash": "5bd7d7fb9277fd46b659b9902a765d4b7625d610e42224668afbeffa62bf2abd"
   }
  }
 },
 "nbformat": 4,
 "nbformat_minor": 2
}
