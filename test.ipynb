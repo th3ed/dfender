{
 "cells": [
  {
   "cell_type": "code",
   "execution_count": 1,
   "metadata": {},
   "outputs": [],
   "source": [
    "from pyspark.sql import SparkSession\n",
    "\n",
    "spark = SparkSession.builder \\\n",
    "    .getOrCreate()"
   ]
  },
  {
   "cell_type": "code",
   "execution_count": 2,
   "metadata": {},
   "outputs": [],
   "source": [
    "import pandas as pd\n",
    "import dask.dataframe as dd\n",
    "\n",
    "X = pd.DataFrame(zip(range(100), range(100)), columns=['x','y'])\n",
    "X_dask = dd.from_pandas(X, npartitions=1)\n",
    "X_spark = spark.createDataFrame(X)"
   ]
  },
  {
   "cell_type": "code",
   "execution_count": 3,
   "metadata": {},
   "outputs": [
    {
     "data": {
      "text/plain": [
       "{(pandas.core.series.Series,): <function __main__.Test.predict(self, X: pandas.core.series.Series) -> pandas.core.series.Series>,\n",
       " (dask.dataframe.core.Series,): <function dfender.materializers.core.MaterializerInterface.map.<locals>.wrapper(_, df: 'Any', *args, **kwargs)>,\n",
       " (pyspark.sql.dataframe.DataFrame,): <function dfender.materializers.core.MaterializerInterface.map.<locals>.wrapper(_, df: 'Any', *args, **kwargs)>}"
      ]
     },
     "execution_count": 3,
     "metadata": {},
     "output_type": "execute_result"
    }
   ],
   "source": [
    "from dfender import distributable\n",
    "\n",
    "class Test:\n",
    "    @distributable(pd.Series)\n",
    "    def predict(self, X: pd.Series) -> pd.Series:\n",
    "        return X == 2\n",
    "        # return (pd.to_datetime('2000-01-01').to_period('M') + X).dt.to_timestamp()\n",
    "\n",
    "    @distributable((pd.Series, pd.DataFrame))\n",
    "    def rowmax(self, X: pd.DataFrame):\n",
    "        return X.max(axis=1)\n",
    "\n",
    "\n",
    "est = Test()\n",
    "# est.predict(X['x'])\n",
    "# est.predict(X_dask['x']).compute()\n",
    "# est.predict(X_spark.select(['x']))\n",
    "# est.rowmax(X)\n",
    "# est.rowmax(X_)\n",
    "# Test.test.funcs\n",
    "est.predict.funcs"
   ]
  },
  {
   "cell_type": "code",
   "execution_count": 4,
   "metadata": {},
   "outputs": [
    {
     "data": {
      "text/plain": [
       "0     False\n",
       "1     False\n",
       "2      True\n",
       "3     False\n",
       "4     False\n",
       "      ...  \n",
       "95    False\n",
       "96    False\n",
       "97    False\n",
       "98    False\n",
       "99    False\n",
       "Name: x, Length: 100, dtype: bool"
      ]
     },
     "execution_count": 4,
     "metadata": {},
     "output_type": "execute_result"
    }
   ],
   "source": [
    "est.predict(X['x'])"
   ]
  },
  {
   "cell_type": "code",
   "execution_count": 7,
   "metadata": {},
   "outputs": [
    {
     "data": {
      "text/plain": [
       "0     False\n",
       "1     False\n",
       "2      True\n",
       "3     False\n",
       "4     False\n",
       "      ...  \n",
       "95    False\n",
       "96    False\n",
       "97    False\n",
       "98    False\n",
       "99    False\n",
       "Name: x, Length: 100, dtype: bool"
      ]
     },
     "execution_count": 7,
     "metadata": {},
     "output_type": "execute_result"
    }
   ],
   "source": [
    "est.predict(X_dask['x']).compute()"
   ]
  },
  {
   "cell_type": "code",
   "execution_count": 8,
   "metadata": {},
   "outputs": [
    {
     "ename": "NameError",
     "evalue": "name 'X_spark' is not defined",
     "output_type": "error",
     "traceback": [
      "\u001b[0;31m---------------------------------------------------------------------------\u001b[0m",
      "\u001b[0;31mNameError\u001b[0m                                 Traceback (most recent call last)",
      "Cell \u001b[0;32mIn [8], line 1\u001b[0m\n\u001b[0;32m----> 1\u001b[0m est\u001b[39m.\u001b[39mpredict(X_spark[\u001b[39m'\u001b[39m\u001b[39mx\u001b[39m\u001b[39m'\u001b[39m])\n",
      "\u001b[0;31mNameError\u001b[0m: name 'X_spark' is not defined"
     ]
    }
   ],
   "source": [
    "est.predict(X_spark['x'])"
   ]
  }
 ],
 "metadata": {
  "kernelspec": {
   "display_name": "Python 3.8.10 ('.venv': poetry)",
   "language": "python",
   "name": "python3"
  },
  "language_info": {
   "codemirror_mode": {
    "name": "ipython",
    "version": 3
   },
   "file_extension": ".py",
   "mimetype": "text/x-python",
   "name": "python",
   "nbconvert_exporter": "python",
   "pygments_lexer": "ipython3",
   "version": "3.8.10"
  },
  "orig_nbformat": 4,
  "vscode": {
   "interpreter": {
    "hash": "5bd7d7fb9277fd46b659b9902a765d4b7625d610e42224668afbeffa62bf2abd"
   }
  }
 },
 "nbformat": 4,
 "nbformat_minor": 2
}
