{
 "cells": [
  {
   "cell_type": "code",
   "execution_count": 1,
   "metadata": {},
   "outputs": [
    {
     "name": "stderr",
     "output_type": "stream",
     "text": [
      "your 131072x1 screen size is bogus. expect trouble\n"
     ]
    },
    {
     "name": "stdout",
     "output_type": "stream",
     "text": [
      "22/11/06 09:56:13 WARN Utils: Your hostname, DESKTOP-TVDS9T6 resolves to a loopback address: 127.0.1.1; using 172.29.38.221 instead (on interface eth0)\n",
      "22/11/06 09:56:13 WARN Utils: Set SPARK_LOCAL_IP if you need to bind to another address\n"
     ]
    },
    {
     "name": "stderr",
     "output_type": "stream",
     "text": [
      "Setting default log level to \"WARN\".\n",
      "To adjust logging level use sc.setLogLevel(newLevel). For SparkR, use setLogLevel(newLevel).\n"
     ]
    },
    {
     "name": "stdout",
     "output_type": "stream",
     "text": [
      "22/11/06 09:56:14 WARN NativeCodeLoader: Unable to load native-hadoop library for your platform... using builtin-java classes where applicable\n"
     ]
    }
   ],
   "source": [
    "from pyspark.sql import SparkSession\n",
    "\n",
    "spark = SparkSession.builder \\\n",
    "    .getOrCreate()"
   ]
  },
  {
   "cell_type": "code",
   "execution_count": 2,
   "metadata": {},
   "outputs": [
    {
     "name": "stderr",
     "output_type": "stream",
     "text": [
      "/home/ed/projects/dfender/.venv/lib/python3.8/site-packages/pyspark/sql/pandas/conversion.py:474: FutureWarning: iteritems is deprecated and will be removed in a future version. Use .items instead.\n",
      "  for column, series in pdf.iteritems():\n",
      "/home/ed/projects/dfender/.venv/lib/python3.8/site-packages/pyspark/sql/pandas/conversion.py:486: FutureWarning: iteritems is deprecated and will be removed in a future version. Use .items instead.\n",
      "  for column, series in pdf.iteritems():\n"
     ]
    }
   ],
   "source": [
    "import pandas as pd\n",
    "import dask.dataframe as dd\n",
    "\n",
    "X = pd.DataFrame(zip(range(100), range(100)), columns=['x','y'])\n",
    "X_dask = dd.from_pandas(X, npartitions=1)\n",
    "X_spark = spark.createDataFrame(X)"
   ]
  },
  {
   "cell_type": "code",
   "execution_count": 8,
   "metadata": {},
   "outputs": [
    {
     "data": {
      "text/plain": [
       "{(pandas.core.series.Series,): <function __main__.Test.predict(self, X: pandas.core.series.Series) -> pandas.core.series.Series>,\n",
       " (dask.dataframe.core.Series,): <function dfender.materializers.core.MaterializerInterface.map.<locals>.wrapper(_, df: 'Any', *args, **kwargs)>,\n",
       " (pyspark.sql.dataframe.DataFrame,): <function dfender.materializers.core.MaterializerInterface.map.<locals>.wrapper(_, df: 'Any', *args, **kwargs)>}"
      ]
     },
     "execution_count": 8,
     "metadata": {},
     "output_type": "execute_result"
    }
   ],
   "source": [
    "from dfender import distributable\n",
    "\n",
    "class Test:\n",
    "    @distributable(pd.Series)\n",
    "    def predict(self, X: pd.Series) -> pd.Series:\n",
    "        return X - 2\n",
    "        # return (pd.to_datetime('2000-01-01').to_period('M') + X).dt.to_timestamp()\n",
    "\n",
    "    @distributable((pd.Series, pd.DataFrame))\n",
    "    def rowmax(self, X: pd.DataFrame):\n",
    "        return X.max(axis=1)\n",
    "\n",
    "\n",
    "est = Test()\n",
    "# est.predict(X['x'])\n",
    "# est.predict(X_dask['x']).compute()\n",
    "# est.predict(X_spark.select(['x']))\n",
    "# est.rowmax(X)\n",
    "# est.rowmax(X_)\n",
    "# Test.test.funcs\n",
    "est.predict.funcs"
   ]
  },
  {
   "cell_type": "code",
   "execution_count": 9,
   "metadata": {},
   "outputs": [
    {
     "data": {
      "text/plain": [
       "0     -2\n",
       "1     -1\n",
       "2      0\n",
       "3      1\n",
       "4      2\n",
       "      ..\n",
       "95    93\n",
       "96    94\n",
       "97    95\n",
       "98    96\n",
       "99    97\n",
       "Name: x, Length: 100, dtype: int64"
      ]
     },
     "execution_count": 9,
     "metadata": {},
     "output_type": "execute_result"
    }
   ],
   "source": [
    "est.predict(X['x'])"
   ]
  },
  {
   "cell_type": "code",
   "execution_count": 10,
   "metadata": {},
   "outputs": [
    {
     "data": {
      "text/plain": [
       "0     -2\n",
       "1     -1\n",
       "2      0\n",
       "3      1\n",
       "4      2\n",
       "      ..\n",
       "95    93\n",
       "96    94\n",
       "97    95\n",
       "98    96\n",
       "99    97\n",
       "Name: x, Length: 100, dtype: int64"
      ]
     },
     "execution_count": 10,
     "metadata": {},
     "output_type": "execute_result"
    }
   ],
   "source": [
    "est.predict(X_dask['x']).compute()"
   ]
  },
  {
   "cell_type": "code",
   "execution_count": 12,
   "metadata": {},
   "outputs": [
    {
     "name": "stderr",
     "output_type": "stream",
     "text": [
      "/home/ed/projects/dfender/.venv/lib/python3.8/site-packages/pyspark/sql/pandas/conversion.py:474: FutureWarning: iteritems is deprecated and will be removed in a future version. Use .items instead.\n",
      "  for column, series in pdf.iteritems():\n",
      "/home/ed/projects/dfender/.venv/lib/python3.8/site-packages/pyspark/sql/pandas/conversion.py:486: FutureWarning: iteritems is deprecated and will be removed in a future version. Use .items instead.\n",
      "  for column, series in pdf.iteritems():\n"
     ]
    },
    {
     "name": "stdout",
     "output_type": "stream",
     "text": [
      "x bigint\n"
     ]
    },
    {
     "name": "stderr",
     "output_type": "stream",
     "text": [
      "[Stage 2:>                                                        (0 + 24) / 24]\r"
     ]
    },
    {
     "name": "stdout",
     "output_type": "stream",
     "text": [
      "22/11/06 09:57:59 ERROR Executor: Exception in task 0.0 in stage 2.0 (TID 48)\n",
      "org.apache.spark.api.python.PythonException: Traceback (most recent call last):\n",
      "  File \"/tmp/ipykernel_22713/557874211.py\", line 6, in predict\n",
      "TypeError: unsupported operand type(s) for -: 'map' and 'int'\n",
      "\n",
      "\tat org.apache.spark.api.python.BasePythonRunner$ReaderIterator.handlePythonException(PythonRunner.scala:559)\n",
      "\tat org.apache.spark.sql.execution.python.PythonArrowOutput$$anon$1.read(PythonArrowOutput.scala:101)\n",
      "\tat org.apache.spark.sql.execution.python.PythonArrowOutput$$anon$1.read(PythonArrowOutput.scala:50)\n",
      "\tat org.apache.spark.api.python.BasePythonRunner$ReaderIterator.hasNext(PythonRunner.scala:512)\n",
      "\tat org.apache.spark.InterruptibleIterator.hasNext(InterruptibleIterator.scala:37)\n",
      "\tat scala.collection.Iterator$$anon$11.hasNext(Iterator.scala:491)\n",
      "\tat scala.collection.Iterator$$anon$10.hasNext(Iterator.scala:460)\n",
      "\tat org.apache.spark.sql.execution.SparkPlan.$anonfun$getByteArrayRdd$1(SparkPlan.scala:364)\n",
      "\tat org.apache.spark.rdd.RDD.$anonfun$mapPartitionsInternal$2(RDD.scala:890)\n",
      "\tat org.apache.spark.rdd.RDD.$anonfun$mapPartitionsInternal$2$adapted(RDD.scala:890)\n",
      "\tat org.apache.spark.rdd.MapPartitionsRDD.compute(MapPartitionsRDD.scala:52)\n",
      "\tat org.apache.spark.rdd.RDD.computeOrReadCheckpoint(RDD.scala:365)\n",
      "\tat org.apache.spark.rdd.RDD.iterator(RDD.scala:329)\n",
      "\tat org.apache.spark.scheduler.ResultTask.runTask(ResultTask.scala:90)\n",
      "\tat org.apache.spark.scheduler.Task.run(Task.scala:136)\n",
      "\tat org.apache.spark.executor.Executor$TaskRunner.$anonfun$run$3(Executor.scala:548)\n",
      "\tat org.apache.spark.util.Utils$.tryWithSafeFinally(Utils.scala:1504)\n",
      "\tat org.apache.spark.executor.Executor$TaskRunner.run(Executor.scala:551)\n",
      "\tat java.base/java.util.concurrent.ThreadPoolExecutor.runWorker(ThreadPoolExecutor.java:1128)\n",
      "\tat java.base/java.util.concurrent.ThreadPoolExecutor$Worker.run(ThreadPoolExecutor.java:628)\n",
      "\tat java.base/java.lang.Thread.run(Thread.java:829)\n",
      "22/11/06 09:57:59 WARN TaskSetManager: Lost task 0.0 in stage 2.0 (TID 48) (172.29.38.221 executor driver): org.apache.spark.api.python.PythonException: Traceback (most recent call last):\n",
      "  File \"/tmp/ipykernel_22713/557874211.py\", line 6, in predict\n",
      "TypeError: unsupported operand type(s) for -: 'map' and 'int'\n",
      "\n",
      "\tat org.apache.spark.api.python.BasePythonRunner$ReaderIterator.handlePythonException(PythonRunner.scala:559)\n",
      "\tat org.apache.spark.sql.execution.python.PythonArrowOutput$$anon$1.read(PythonArrowOutput.scala:101)\n",
      "\tat org.apache.spark.sql.execution.python.PythonArrowOutput$$anon$1.read(PythonArrowOutput.scala:50)\n",
      "\tat org.apache.spark.api.python.BasePythonRunner$ReaderIterator.hasNext(PythonRunner.scala:512)\n",
      "\tat org.apache.spark.InterruptibleIterator.hasNext(InterruptibleIterator.scala:37)\n",
      "\tat scala.collection.Iterator$$anon$11.hasNext(Iterator.scala:491)\n",
      "\tat scala.collection.Iterator$$anon$10.hasNext(Iterator.scala:460)\n",
      "\tat org.apache.spark.sql.execution.SparkPlan.$anonfun$getByteArrayRdd$1(SparkPlan.scala:364)\n",
      "\tat org.apache.spark.rdd.RDD.$anonfun$mapPartitionsInternal$2(RDD.scala:890)\n",
      "\tat org.apache.spark.rdd.RDD.$anonfun$mapPartitionsInternal$2$adapted(RDD.scala:890)\n",
      "\tat org.apache.spark.rdd.MapPartitionsRDD.compute(MapPartitionsRDD.scala:52)\n",
      "\tat org.apache.spark.rdd.RDD.computeOrReadCheckpoint(RDD.scala:365)\n",
      "\tat org.apache.spark.rdd.RDD.iterator(RDD.scala:329)\n",
      "\tat org.apache.spark.scheduler.ResultTask.runTask(ResultTask.scala:90)\n",
      "\tat org.apache.spark.scheduler.Task.run(Task.scala:136)\n",
      "\tat org.apache.spark.executor.Executor$TaskRunner.$anonfun$run$3(Executor.scala:548)\n",
      "\tat org.apache.spark.util.Utils$.tryWithSafeFinally(Utils.scala:1504)\n",
      "\tat org.apache.spark.executor.Executor$TaskRunner.run(Executor.scala:551)\n",
      "\tat java.base/java.util.concurrent.ThreadPoolExecutor.runWorker(ThreadPoolExecutor.java:1128)\n",
      "\tat java.base/java.util.concurrent.ThreadPoolExecutor$Worker.run(ThreadPoolExecutor.java:628)\n",
      "\tat java.base/java.lang.Thread.run(Thread.java:829)\n",
      "\n",
      "22/11/06 09:57:59 ERROR TaskSetManager: Task 0 in stage 2.0 failed 1 times; aborting job\n",
      "22/11/06 09:57:59 WARN TaskSetManager: Lost task 23.0 in stage 2.0 (TID 71) (172.29.38.221 executor driver): TaskKilled (Stage cancelled)\n",
      "22/11/06 09:57:59 WARN TaskSetManager: Lost task 6.0 in stage 2.0 (TID 54) (172.29.38.221 executor driver): TaskKilled (Stage cancelled)\n",
      "22/11/06 09:57:59 WARN TaskSetManager: Lost task 7.0 in stage 2.0 (TID 55) (172.29.38.221 executor driver): TaskKilled (Stage cancelled)\n",
      "22/11/06 09:57:59 WARN TaskSetManager: Lost task 11.0 in stage 2.0 (TID 59) (172.29.38.221 executor driver): TaskKilled (Stage cancelled)\n",
      "22/11/06 09:57:59 WARN TaskSetManager: Lost task 22.0 in stage 2.0 (TID 70) (172.29.38.221 executor driver): TaskKilled (Stage cancelled)\n",
      "22/11/06 09:57:59 WARN TaskSetManager: Lost task 10.0 in stage 2.0 (TID 58) (172.29.38.221 executor driver): TaskKilled (Stage cancelled)\n",
      "22/11/06 09:57:59 WARN TaskSetManager: Lost task 21.0 in stage 2.0 (TID 69) (172.29.38.221 executor driver): TaskKilled (Stage cancelled)\n",
      "22/11/06 09:57:59 WARN TaskSetManager: Lost task 1.0 in stage 2.0 (TID 49) (172.29.38.221 executor driver): TaskKilled (Stage cancelled)\n",
      "22/11/06 09:57:59 WARN TaskSetManager: Lost task 19.0 in stage 2.0 (TID 67) (172.29.38.221 executor driver): TaskKilled (Stage cancelled)\n",
      "22/11/06 09:57:59 WARN TaskSetManager: Lost task 2.0 in stage 2.0 (TID 50) (172.29.38.221 executor driver): TaskKilled (Stage cancelled)\n",
      "22/11/06 09:57:59 WARN TaskSetManager: Lost task 4.0 in stage 2.0 (TID 52) (172.29.38.221 executor driver): TaskKilled (Stage cancelled)\n",
      "22/11/06 09:57:59 WARN TaskSetManager: Lost task 17.0 in stage 2.0 (TID 65) (172.29.38.221 executor driver): TaskKilled (Stage cancelled)\n",
      "22/11/06 09:57:59 WARN TaskSetManager: Lost task 15.0 in stage 2.0 (TID 63) (172.29.38.221 executor driver): TaskKilled (Stage cancelled)\n",
      "22/11/06 09:57:59 WARN TaskSetManager: Lost task 14.0 in stage 2.0 (TID 62) (172.29.38.221 executor driver): TaskKilled (Stage cancelled)\n"
     ]
    },
    {
     "ename": "PythonException",
     "evalue": "\n  An exception was thrown from the Python worker. Please see the stack trace below.\nTraceback (most recent call last):\n  File \"/tmp/ipykernel_22713/557874211.py\", line 6, in predict\nTypeError: unsupported operand type(s) for -: 'map' and 'int'\n",
     "output_type": "error",
     "traceback": [
      "\u001b[0;31m---------------------------------------------------------------------------\u001b[0m",
      "\u001b[0;31mPythonException\u001b[0m                           Traceback (most recent call last)",
      "Cell \u001b[0;32mIn [12], line 1\u001b[0m\n\u001b[0;32m----> 1\u001b[0m est\u001b[39m.\u001b[39;49mpredict(X_spark\u001b[39m.\u001b[39;49mselect([\u001b[39m'\u001b[39;49m\u001b[39mx\u001b[39;49m\u001b[39m'\u001b[39;49m]))\u001b[39m.\u001b[39;49mcollect()\n",
      "File \u001b[0;32m~/projects/dfender/.venv/lib/python3.8/site-packages/pyspark/sql/dataframe.py:817\u001b[0m, in \u001b[0;36mDataFrame.collect\u001b[0;34m(self)\u001b[0m\n\u001b[1;32m    807\u001b[0m \u001b[39m\"\"\"Returns all the records as a list of :class:`Row`.\u001b[39;00m\n\u001b[1;32m    808\u001b[0m \n\u001b[1;32m    809\u001b[0m \u001b[39m.. versionadded:: 1.3.0\u001b[39;00m\n\u001b[0;32m   (...)\u001b[0m\n\u001b[1;32m    814\u001b[0m \u001b[39m[Row(age=2, name='Alice'), Row(age=5, name='Bob')]\u001b[39;00m\n\u001b[1;32m    815\u001b[0m \u001b[39m\"\"\"\u001b[39;00m\n\u001b[1;32m    816\u001b[0m \u001b[39mwith\u001b[39;00m SCCallSiteSync(\u001b[39mself\u001b[39m\u001b[39m.\u001b[39m_sc):\n\u001b[0;32m--> 817\u001b[0m     sock_info \u001b[39m=\u001b[39m \u001b[39mself\u001b[39;49m\u001b[39m.\u001b[39;49m_jdf\u001b[39m.\u001b[39;49mcollectToPython()\n\u001b[1;32m    818\u001b[0m \u001b[39mreturn\u001b[39;00m \u001b[39mlist\u001b[39m(_load_from_socket(sock_info, BatchedSerializer(CPickleSerializer())))\n",
      "File \u001b[0;32m~/projects/dfender/.venv/lib/python3.8/site-packages/py4j/java_gateway.py:1321\u001b[0m, in \u001b[0;36mJavaMember.__call__\u001b[0;34m(self, *args)\u001b[0m\n\u001b[1;32m   1315\u001b[0m command \u001b[39m=\u001b[39m proto\u001b[39m.\u001b[39mCALL_COMMAND_NAME \u001b[39m+\u001b[39m\\\n\u001b[1;32m   1316\u001b[0m     \u001b[39mself\u001b[39m\u001b[39m.\u001b[39mcommand_header \u001b[39m+\u001b[39m\\\n\u001b[1;32m   1317\u001b[0m     args_command \u001b[39m+\u001b[39m\\\n\u001b[1;32m   1318\u001b[0m     proto\u001b[39m.\u001b[39mEND_COMMAND_PART\n\u001b[1;32m   1320\u001b[0m answer \u001b[39m=\u001b[39m \u001b[39mself\u001b[39m\u001b[39m.\u001b[39mgateway_client\u001b[39m.\u001b[39msend_command(command)\n\u001b[0;32m-> 1321\u001b[0m return_value \u001b[39m=\u001b[39m get_return_value(\n\u001b[1;32m   1322\u001b[0m     answer, \u001b[39mself\u001b[39;49m\u001b[39m.\u001b[39;49mgateway_client, \u001b[39mself\u001b[39;49m\u001b[39m.\u001b[39;49mtarget_id, \u001b[39mself\u001b[39;49m\u001b[39m.\u001b[39;49mname)\n\u001b[1;32m   1324\u001b[0m \u001b[39mfor\u001b[39;00m temp_arg \u001b[39min\u001b[39;00m temp_args:\n\u001b[1;32m   1325\u001b[0m     temp_arg\u001b[39m.\u001b[39m_detach()\n",
      "File \u001b[0;32m~/projects/dfender/.venv/lib/python3.8/site-packages/pyspark/sql/utils.py:196\u001b[0m, in \u001b[0;36mcapture_sql_exception.<locals>.deco\u001b[0;34m(*a, **kw)\u001b[0m\n\u001b[1;32m    192\u001b[0m converted \u001b[39m=\u001b[39m convert_exception(e\u001b[39m.\u001b[39mjava_exception)\n\u001b[1;32m    193\u001b[0m \u001b[39mif\u001b[39;00m \u001b[39mnot\u001b[39;00m \u001b[39misinstance\u001b[39m(converted, UnknownException):\n\u001b[1;32m    194\u001b[0m     \u001b[39m# Hide where the exception came from that shows a non-Pythonic\u001b[39;00m\n\u001b[1;32m    195\u001b[0m     \u001b[39m# JVM exception message.\u001b[39;00m\n\u001b[0;32m--> 196\u001b[0m     \u001b[39mraise\u001b[39;00m converted \u001b[39mfrom\u001b[39;00m \u001b[39mNone\u001b[39m\n\u001b[1;32m    197\u001b[0m \u001b[39melse\u001b[39;00m:\n\u001b[1;32m    198\u001b[0m     \u001b[39mraise\u001b[39;00m\n",
      "\u001b[0;31mPythonException\u001b[0m: \n  An exception was thrown from the Python worker. Please see the stack trace below.\nTraceback (most recent call last):\n  File \"/tmp/ipykernel_22713/557874211.py\", line 6, in predict\nTypeError: unsupported operand type(s) for -: 'map' and 'int'\n"
     ]
    },
    {
     "name": "stdout",
     "output_type": "stream",
     "text": [
      "22/11/06 09:57:59 WARN TaskSetManager: Lost task 3.0 in stage 2.0 (TID 51) (172.29.38.221 executor driver): TaskKilled (Stage cancelled)\n",
      "22/11/06 09:57:59 WARN TaskSetManager: Lost task 5.0 in stage 2.0 (TID 53) (172.29.38.221 executor driver): TaskKilled (Stage cancelled)\n"
     ]
    }
   ],
   "source": [
    "est.predict(X_spark.select(['x'])).collect()"
   ]
  }
 ],
 "metadata": {
  "kernelspec": {
   "display_name": "Python 3.8.10 ('.venv': poetry)",
   "language": "python",
   "name": "python3"
  },
  "language_info": {
   "codemirror_mode": {
    "name": "ipython",
    "version": 3
   },
   "file_extension": ".py",
   "mimetype": "text/x-python",
   "name": "python",
   "nbconvert_exporter": "python",
   "pygments_lexer": "ipython3",
   "version": "3.8.10"
  },
  "orig_nbformat": 4,
  "vscode": {
   "interpreter": {
    "hash": "5bd7d7fb9277fd46b659b9902a765d4b7625d610e42224668afbeffa62bf2abd"
   }
  }
 },
 "nbformat": 4,
 "nbformat_minor": 2
}
